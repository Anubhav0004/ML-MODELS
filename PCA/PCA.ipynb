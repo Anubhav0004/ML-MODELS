{
 "cells": [
  {
   "cell_type": "markdown",
   "id": "82f4a18d",
   "metadata": {},
   "source": [
    "# PCA"
   ]
  },
  {
   "cell_type": "code",
   "execution_count": null,
   "id": "1540838e",
   "metadata": {},
   "outputs": [],
   "source": [
    "# PCA on diabetes\n",
    "\n",
    "import pandas as pd\n",
    "import numpy as np\n",
    "\n",
    "# read csv file\n",
    "\n",
    "df=pd.read_csv(\"diabetes.csv\")\n",
    "\n",
    "df.head()"
   ]
  },
  {
   "cell_type": "code",
   "execution_count": null,
   "id": "23a93bf1",
   "metadata": {},
   "outputs": [],
   "source": [
    "# seperate into x and y\n",
    "\n",
    "X=df.iloc[:,:-1]\n",
    "y=df.iloc[:,-1]\n"
   ]
  },
  {
   "cell_type": "code",
   "execution_count": null,
   "id": "53cfd0da",
   "metadata": {},
   "outputs": [],
   "source": [
    "# normalization\n",
    "\n",
    "from sklearn.preprocessing import StandardScaler\n",
    "\n",
    "scaler=StandardScaler()\n",
    "\n",
    "x=scaler.fit_transform(X)\n",
    "\n",
    "# covariance matrix\n",
    "\n",
    "x_trans=x.T\n",
    "\n",
    "cov_matrix=np.cov(x_trans)\n",
    "\n",
    "cov_matrix"
   ]
  },
  {
   "cell_type": "code",
   "execution_count": null,
   "id": "b50d8423",
   "metadata": {},
   "outputs": [],
   "source": [
    "# eigen values and vectors\n",
    "value,vector=np.linalg.eig(cov_matrix)\n",
    "\n",
    "# reduce dimensions\n",
    "# pc={}\n",
    "\n",
    "# for i in range(4):\n",
    "#     pc[i+1]=x.dot(vector.T[i])\n",
    "# pc\n",
    " \n",
    "comp1=x.dot(vector[0])\n",
    "comp2=x.dot(vector[1])\n",
    "comp3=x.dot(vector[2])\n",
    "comp4=x.dot(vector[3])\n"
   ]
  },
  {
   "cell_type": "code",
   "execution_count": null,
   "id": "0754f221",
   "metadata": {},
   "outputs": [],
   "source": [
    "# make a new data frame\n",
    "\n",
    "res=pd.DataFrame(comp1,columns=['PC1'])\n",
    "res['PC2']=comp2\n",
    "res['PC3']=comp3\n",
    "res['PC4']=comp4\n",
    "res['Outcome']=y\n",
    "\n",
    "print(res)"
   ]
  }
 ],
 "metadata": {
  "kernelspec": {
   "display_name": "Python 3",
   "language": "python",
   "name": "python3"
  },
  "language_info": {
   "codemirror_mode": {
    "name": "ipython",
    "version": 3
   },
   "file_extension": ".py",
   "mimetype": "text/x-python",
   "name": "python",
   "nbconvert_exporter": "python",
   "pygments_lexer": "ipython3",
   "version": "3.8.8"
  }
 },
 "nbformat": 4,
 "nbformat_minor": 5
}
