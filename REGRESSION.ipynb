{
 "cells": [
  {
   "cell_type": "markdown",
   "id": "c54fd6d5",
   "metadata": {},
   "source": [
    "# Simple Linear Regression"
   ]
  },
  {
   "cell_type": "markdown",
   "id": "7dda3d8e",
   "metadata": {},
   "source": [
    "## Manual"
   ]
  },
  {
   "cell_type": "code",
   "execution_count": null,
   "id": "4e25e257",
   "metadata": {},
   "outputs": [],
   "source": [
    "list1=[1400,1600,1700,1875,1100,1550,2350,2450,1425,1700]\n",
    "list2=[245,312,279,308,199,219,405,324,319,255]\n",
    "list3=[]\n",
    "list4=[]\n",
    "for i in range(len(list1)):\n",
    "    ele1=list1[i]*list1[i]\n",
    "    ele2=list1[i]*list2[i]\n",
    "    list3.append(ele1)\n",
    "    list4.append(ele2)\n",
    "#m=((len(list1)*sum(list4))-(sum(list1)*sum(list2)))/((len(list1)*sum(list3))-(sum(list1)*sum(list(1))))\n",
    "xiyi=sum(list4)\n",
    "xi_yi=sum(list1)*sum(list2)\n",
    "xi2=sum(list3)\n",
    "xi_2=sum(list1)*sum(list1)\n",
    "n=len(list1)\n",
    "m=(n*xiyi-xi_yi)/(n*xi2-xi_2)\n",
    "y_bar=sum(list2)/n\n",
    "x_bar=sum(list1)/n\n",
    "#print(\"The slope is:\",m)\n",
    "c=y_bar-m*x_bar\n",
    "#print(\"The intercept is:\",c)\n",
    "\n",
    "p_size=int(input(\"Enter the plot size(in feet):\"))\n",
    "\n",
    "y=c+m*p_size\n",
    "\n",
    "print(\"Predicted price($):\",y)"
   ]
  },
  {
   "cell_type": "markdown",
   "id": "0900e537",
   "metadata": {},
   "source": [
    "## Inbuilt"
   ]
  },
  {
   "cell_type": "code",
   "execution_count": null,
   "id": "1b15a7ed",
   "metadata": {},
   "outputs": [],
   "source": [
    "import numpy as np\n",
    "from sklearn.linear_model import LinearRegression\n",
    "LinReg=LinearRegression()\n",
    "\n",
    "list1=[1400,1600,1700,1875,1100,1550,2350,2450,1425,1700]\n",
    "list2=[245,312,279,308,199,219,405,324,319,255]\n",
    "\n",
    "x=np.array(list1)\n",
    "y=np.array(list2)\n",
    "\n",
    "# x=x.reshape(-1,1)\n",
    "# y=y.reshape(-1,1)\n",
    "\n",
    "LinReg.fit(x,y)\n",
    "\n",
    "LinReg.predict(x)\n",
    "print(LinReg.coef_) #Slope\n",
    "print(LinReg.intercept_) #c"
   ]
  },
  {
   "cell_type": "markdown",
   "id": "04d79dfa",
   "metadata": {},
   "source": [
    "# Multiple Linear Regression"
   ]
  },
  {
   "cell_type": "markdown",
   "id": "27277046",
   "metadata": {},
   "source": [
    "## Manual"
   ]
  },
  {
   "cell_type": "code",
   "execution_count": null,
   "id": "d6531149",
   "metadata": {},
   "outputs": [],
   "source": [
    "# importingh required libraries\n",
    "import numpy as np\n",
    "import pandas as pd\n",
    "\n",
    "# import the csv file in dataframe\n",
    "df=pd.read_csv(\"ass5_2final.csv\")\n",
    "X=df.iloc[:,0:3]\n",
    "Y=df.iloc[:,3]\n",
    "\n",
    "# convert into a matrix \n",
    "x=np.array(X)\n",
    "y=np.array(Y)\n",
    "\n",
    "# perform the required calculations\n",
    "X_Trans=x.T\n",
    "XX=np.dot(X_Trans,x) #fct to multiply two matrices\n",
    "Beta=np.dot(np.dot(np.linalg.inv(XX),X_Trans),y)\n",
    "\n",
    "print(Beta)\n",
    "\n",
    "b0=Beta[0]\n",
    "b1=Beta[1]\n",
    "b2=Beta[2]\n",
    "\n",
    "# a=float(input(\"Enter unemployment rate:\"))\n",
    "# b=float(input(\"Enter interest rate:\"))\n",
    "\n",
    "# y_predict=b0+b1*a+b2*b\n",
    "\n",
    "# print(\"Predicted value:\",y_predict)\n",
    "\n",
    "# (5.8%,1.5%) --> 891"
   ]
  },
  {
   "cell_type": "markdown",
   "id": "d42914bd",
   "metadata": {},
   "source": [
    "## Inbuilt"
   ]
  },
  {
   "cell_type": "code",
   "execution_count": null,
   "id": "5816999d",
   "metadata": {},
   "outputs": [],
   "source": [
    "# import required libraries\n",
    "import numpy as np\n",
    "import pandas as pd\n",
    "from sklearn.linear_model import LinearRegression\n",
    "\n",
    "# import the csv file in dataframe\n",
    "df=pd.read_csv(\"ass5_2final.csv\")\n",
    "X=df.iloc[:,0:3]\n",
    "Y=df.iloc[:,3]\n",
    "\n",
    "# convert into a matrix \n",
    "x=np.array(X)\n",
    "y=np.array(Y)\n",
    "\n",
    "LinReg.fit(x,y)\n",
    "\n",
    "LinReg.predict(x)\n",
    "print(LinReg.coef_) #Slope\n",
    "print(LinReg.intercept_) #c"
   ]
  }
 ],
 "metadata": {
  "kernelspec": {
   "display_name": "Python 3",
   "language": "python",
   "name": "python3"
  },
  "language_info": {
   "codemirror_mode": {
    "name": "ipython",
    "version": 3
   },
   "file_extension": ".py",
   "mimetype": "text/x-python",
   "name": "python",
   "nbconvert_exporter": "python",
   "pygments_lexer": "ipython3",
   "version": "3.8.8"
  }
 },
 "nbformat": 4,
 "nbformat_minor": 5
}
