{
 "cells": [
  {
   "cell_type": "markdown",
   "id": "1f17604a",
   "metadata": {},
   "source": [
    "# ID-3 Decision Tree Classifier"
   ]
  },
  {
   "cell_type": "code",
   "execution_count": null,
   "id": "e061ba8b",
   "metadata": {},
   "outputs": [],
   "source": [
    "import pandas as pd\n",
    "from sklearn.preprocessing import LabelEncoder\n",
    "from sklearn import tree\n",
    "from sklearn.model_selection import train_test_split\n",
    "from sklearn.metrics import classification_report\n",
    "from sklearn.metrics import confusion_matrix\n",
    "\n",
    "df=pd.read_csv('titanic2.txt',delimiter='\\t')\n",
    "\n",
    "X=df.iloc[:,0:3]\n",
    "Y=df.iloc[:,3]\n",
    "\n",
    "le=LabelEncoder()\n",
    "X['pclass']=le.fit_transform(X['pclass'])\n",
    "X['age']=le.fit_transform(X['age'])\n",
    "X['sex']=le.fit_transform(X['sex'])\n",
    "\n",
    "y=le.fit_transform(Y)\n",
    "\n",
    "X_train,X_test,Y_train,Y_test=train_test_split(X,y,test_size=0.2,random_state=0,shuffle=True)\n",
    "\n",
    "t=tree.DecisionTreeClassifier(criterion='entropy')\n",
    "t.fit(X_train,Y_train)\n",
    "\n",
    "import matplotlib as plt\n",
    "\n",
    "tree.plot_tree(t)\n"
   ]
  },
  {
   "cell_type": "code",
   "execution_count": null,
   "id": "ae7d91a9",
   "metadata": {},
   "outputs": [],
   "source": [
    "ypred=t.predict(X_test)\n",
    "\n",
    "from sklearn.metrics import accuracy_score\n",
    "print(accuracy_score(Y_test,ypred))"
   ]
  }
 ],
 "metadata": {
  "kernelspec": {
   "display_name": "Python 3",
   "language": "python",
   "name": "python3"
  },
  "language_info": {
   "codemirror_mode": {
    "name": "ipython",
    "version": 3
   },
   "file_extension": ".py",
   "mimetype": "text/x-python",
   "name": "python",
   "nbconvert_exporter": "python",
   "pygments_lexer": "ipython3",
   "version": "3.8.8"
  }
 },
 "nbformat": 4,
 "nbformat_minor": 5
}
